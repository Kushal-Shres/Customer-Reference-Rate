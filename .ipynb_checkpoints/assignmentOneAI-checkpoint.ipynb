{
 "cells": [
  {
   "cell_type": "markdown",
   "id": "9b088b3e",
   "metadata": {},
   "source": [
    "# Group Members:\n",
    "    Aliyu Marafa\n",
    "    Avishek Khatiwada\n",
    "    Joel Laureta\n",
    "    Kushal Lal Shrestha\n",
    "    Siddharth Anand Yadav\n",
    "    Simon Shrestha"
   ]
  },
  {
   "cell_type": "markdown",
   "id": "38155979",
   "metadata": {},
   "source": [
    "# Instructions:\n",
    "\n",
    "[Please answer the following questions and submit a report along with codes, preferably Jupyter notebook]\n",
    "\n",
    "Choose any 5 of the following 7 questions below.\n",
    "\n",
    "Q1. You draw two cards from pack of 52 shuffled cards (without replacement). Create a Python Program to generate a Probability Distribution Table for getting zero to at most 2 ACES. (4 Marks)\n",
    "\n",
    "Q2. Bag I contain 2 red and 8 black balls while another Bag II contains 5 red and 5 black balls. One ball is drawn at random from one of the bags, and it is found to be black. Create a Python Program to find the probability that it was drawn from Bag 2.  (4 Marks)\n",
    "\n",
    "Q3. There are 3 red and 7 black balls in a bag. You are asked to draw 3 balls at random (with replacement) in three different trials, Create a Python program to find the probability of getting two red balls and one black ball?  (4 Marks)\n",
    "\n",
    "Q4. A Customer Call center receives on average 3.5 calls every hour. Write a Python Program to find the probability that it will receive at most 4 calls every hour? (4 Marks)\n",
    "\n",
    "Q5. The Student Services at Cestar College receives 2 phone calls per hour. Write a Python Program to find the probability that a phone call will come within the next hour. (4 Marks)\n",
    "\n",
    "Q6. Create a Python Program to generate the Eigen Value and Eigen Vector for the following Matrix (3x3 dimension) (4 Marks)\n",
    "[8  5  3]\n",
    "[5  6  5]\n",
    "[9  7  4]\n",
    "\n",
    "Q7. Create a Python program to find the Inverse of the following Matrix, using the concept shown in the class. Use of Linalg is restricted. \n",
    "(4 Marks)\n",
    "[7 2] \n",
    "[3 -5]"
   ]
  },
  {
   "cell_type": "markdown",
   "id": "c2e54df8",
   "metadata": {},
   "source": [
    "# For Question 1"
   ]
  },
  {
   "cell_type": "code",
   "execution_count": 1,
   "id": "eec0ee95",
   "metadata": {},
   "outputs": [
    {
     "name": "stdout",
     "output_type": "stream",
     "text": [
      "Number of Aces | Probability\n",
      "0              | 0.85068\n",
      "1              | 0.14480\n",
      "2              | 0.00452\n"
     ]
    }
   ],
   "source": [
    "from math import comb\n",
    " \n",
    "# Function to calculate the probability of drawing a certain number of aces\n",
    "def probabilityOfAces(draws, acesDrawn):\n",
    "    # Number of ways to draw the aces\n",
    "    waysToDrawAces = comb(4, acesDrawn)\n",
    "    # Number of ways to draw the other cards that are not aces\n",
    "    waysToDrawOtherCards = comb(48, draws - acesDrawn)\n",
    "    # Total ways to draw the cards\n",
    "    totalWaysToDraw = comb(52, draws)\n",
    "    # Probability is the number of successful outcomes divided by total possible outcomes\n",
    "    probability = (waysToDrawAces * waysToDrawOtherCards) / totalWaysToDraw\n",
    "    return probability\n",
    " \n",
    "# Probability distribution table for drawing 0, 1, or 2 aces in 2 draws\n",
    "probabilities = [probabilityOfAces(2, acesDrawn) for acesDrawn in range(3)]\n",
    " \n",
    "# Output the probability distribution table\n",
    "distributionTable = \"Number of Aces | Probability\\n\"\n",
    "distributionTable += \"\\n\".join([f\"{acesDrawn}              | {prob:.5f}\" for acesDrawn, prob in enumerate(probabilities)])\n",
    " \n",
    "print(distributionTable)"
   ]
  },
  {
   "cell_type": "markdown",
   "id": "2b0db739",
   "metadata": {},
   "source": [
    "# For Question 2"
   ]
  },
  {
   "cell_type": "code",
   "execution_count": 2,
   "id": "d3e18685",
   "metadata": {},
   "outputs": [
    {
     "name": "stdout",
     "output_type": "stream",
     "text": [
      "The probability that the black ball was drawn from Bag II is 0.38462\n"
     ]
    }
   ],
   "source": [
    "# Define the probabilities of drawing a black ball from each bag\n",
    "probBlackBag1 = 8 / 10  # Probability of drawing a black ball from Bag I\n",
    "probBlackBag2 = 5 / 10  # Probability of drawing a black ball from Bag II\n",
    " \n",
    "# Since there is no information about the probability of choosing a bag,\n",
    "# we assume that each bag is equally likely to be chosen.\n",
    "probChoosingBag1 = 1 / 2\n",
    "probChoosingBag2 = 1 / 2\n",
    " \n",
    "# Use Bayes' Theorem to calculate the probability that the black ball was drawn from Bag II\n",
    "# P(Bag II | Black) = P(Black | Bag II) * P(Bag II) / P(Black)\n",
    "# P(Black) is the total probability of drawing a black ball from either bag\n",
    "probBlack = (probBlackBag1 * probChoosingBag1) + (probBlackBag2 * probChoosingBag2)\n",
    " \n",
    "# Now calculate the probability that the black ball was drawn from Bag II\n",
    "probBag2GivenBlack = (probBlackBag2 * probChoosingBag2) / probBlack\n",
    " \n",
    "print(f\"The probability that the black ball was drawn from Bag II is {probBag2GivenBlack:.5f}\")"
   ]
  },
  {
   "cell_type": "markdown",
   "id": "61951994",
   "metadata": {},
   "source": [
    "# For Question 3"
   ]
  },
  {
   "cell_type": "code",
   "execution_count": 3,
   "id": "0006e437",
   "metadata": {},
   "outputs": [
    {
     "name": "stdout",
     "output_type": "stream",
     "text": [
      "The probability of drawing two red balls and one black ball is: 0.189\n"
     ]
    }
   ],
   "source": [
    "# Define the probabilities for red and black balls\n",
    "pRed = 3 / 10\n",
    "pBlack = 7 / 10\n",
    " \n",
    "# Calculate the probability of drawing two red balls and one black ball in any order\n",
    "# There are three possible orders: RRB, RBR, BRR\n",
    "# Since the draws are with replacement, the probability for each draw is independent\n",
    "probTwoRedOneBlack = (pRed * pRed * pBlack) + (pRed * pBlack * pRed) + (pBlack * pRed * pRed)\n",
    " \n",
    "print(f\"The probability of drawing two red balls and one black ball is: {probTwoRedOneBlack}\")"
   ]
  },
  {
   "cell_type": "markdown",
   "id": "614b7311",
   "metadata": {},
   "source": [
    "# For Question 4"
   ]
  },
  {
   "cell_type": "code",
   "execution_count": 4,
   "id": "9d00ba64",
   "metadata": {},
   "outputs": [
    {
     "name": "stdout",
     "output_type": "stream",
     "text": [
      "The probability of receiving at most 4 calls every hour is 0.72544\n"
     ]
    }
   ],
   "source": [
    "from scipy.stats import poisson\n",
    " \n",
    " \n",
    "# Average rate of calls per hour\n",
    "lambdaCalls = 3.5\n",
    " \n",
    "# Calculate the probability of receiving at most 4 calls\n",
    "probAtMostFourCalls = poisson.cdf(4, lambdaCalls)\n",
    " \n",
    "print(f\"The probability of receiving at most 4 calls every hour is {probAtMostFourCalls:.5f}\")"
   ]
  },
  {
   "cell_type": "markdown",
   "id": "9ebddf0d",
   "metadata": {},
   "source": [
    "# For Question 7"
   ]
  },
  {
   "cell_type": "code",
   "execution_count": 5,
   "id": "eae88477",
   "metadata": {},
   "outputs": [
    {
     "name": "stdout",
     "output_type": "stream",
     "text": [
      "Inverse of the matrix:\n",
      "[0.12195121951219512, 0.04878048780487805]\n",
      "[0.07317073170731707, -0.17073170731707318]\n"
     ]
    }
   ],
   "source": [
    "def inverseMatrix(matrix):\n",
    "    # Calculate the determinant\n",
    "    determinant = matrix[0][0] * matrix[1][1] - matrix[0][1] * matrix[1][0]\n",
    "    if determinant == 0:\n",
    "        raise ValueError(\"The matrix is not invertible.\")\n",
    " \n",
    "    # Calculate the inverse using the formula for 2x2 matrices\n",
    "    inverseMat = [[matrix[1][1] / determinant, -matrix[0][1] / determinant],\n",
    "                  [-matrix[1][0] / determinant, matrix[0][0] / determinant]]\n",
    "    return inverseMat\n",
    " \n",
    "# Define the matrix\n",
    "matrixA = [[7, 2], [3, -5]]\n",
    " \n",
    "# Calculate the inverse\n",
    "try:\n",
    "    matrixAInverse = inverseMatrix(matrixA)\n",
    "    print('Inverse of the matrix:')\n",
    "    for mat in matrixAInverse:\n",
    "        print(mat)\n",
    "except ValueError as e:\n",
    "    print(e)"
   ]
  },
  {
   "cell_type": "code",
   "execution_count": null,
   "id": "139161bc",
   "metadata": {},
   "outputs": [],
   "source": []
  }
 ],
 "metadata": {
  "kernelspec": {
   "display_name": "Python 3 (ipykernel)",
   "language": "python",
   "name": "python3"
  },
  "language_info": {
   "codemirror_mode": {
    "name": "ipython",
    "version": 3
   },
   "file_extension": ".py",
   "mimetype": "text/x-python",
   "name": "python",
   "nbconvert_exporter": "python",
   "pygments_lexer": "ipython3",
   "version": "3.11.4"
  }
 },
 "nbformat": 4,
 "nbformat_minor": 5
}
